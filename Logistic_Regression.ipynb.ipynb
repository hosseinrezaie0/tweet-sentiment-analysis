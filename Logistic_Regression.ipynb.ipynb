{
  "nbformat": 4,
  "nbformat_minor": 0,
  "metadata": {
    "colab": {
      "provenance": [],
      "authorship_tag": "ABX9TyPW5AXQvFiOCWSCAUv+/J4e",
      "include_colab_link": true
    },
    "kernelspec": {
      "name": "python3",
      "display_name": "Python 3"
    },
    "language_info": {
      "name": "python"
    }
  },
  "cells": [
    {
      "cell_type": "markdown",
      "metadata": {
        "id": "view-in-github",
        "colab_type": "text"
      },
      "source": [
        "<a href=\"https://colab.research.google.com/github/hosseinrezaie0/tweet-sentiment-analysis/blob/main/Logistic_Regression.ipynb.ipynb\" target=\"_parent\"><img src=\"https://colab.research.google.com/assets/colab-badge.svg\" alt=\"Open In Colab\"/></a>"
      ]
    },
    {
      "cell_type": "code",
      "source": [
        "import numpy as np\n",
        "import pandas as pd\n",
        "import nltk\n",
        "from nltk.corpus import twitter_samples\n",
        "from nltk.corpus import stopwords\n",
        "from nltk.stem import PorterStemmer\n",
        "from nltk.tokenize import TweetTokenizer\n",
        "import re\n",
        "import string\n",
        "import matplotlib.pyplot as plt"
      ],
      "metadata": {
        "id": "gDPxsKrfusx4"
      },
      "execution_count": 65,
      "outputs": []
    },
    {
      "cell_type": "code",
      "source": [
        "nltk.download('twitter_samples')\n",
        "nltk.download('stopwords')"
      ],
      "metadata": {
        "colab": {
          "base_uri": "https://localhost:8080/"
        },
        "id": "U00GUOTrlQr6",
        "outputId": "a162652a-d72b-4603-b0fd-61be709367c9"
      },
      "execution_count": 66,
      "outputs": [
        {
          "output_type": "stream",
          "name": "stderr",
          "text": [
            "[nltk_data] Downloading package twitter_samples to /root/nltk_data...\n",
            "[nltk_data]   Package twitter_samples is already up-to-date!\n",
            "[nltk_data] Downloading package stopwords to /root/nltk_data...\n",
            "[nltk_data]   Package stopwords is already up-to-date!\n"
          ]
        },
        {
          "output_type": "execute_result",
          "data": {
            "text/plain": [
              "True"
            ]
          },
          "metadata": {},
          "execution_count": 66
        }
      ]
    },
    {
      "cell_type": "code",
      "source": [
        "positive_tweets = twitter_samples.strings('positive_tweets.json')\n",
        "negative_tweets = twitter_samples.strings('negative_tweets.json')"
      ],
      "metadata": {
        "id": "SZndTxmNlS_K"
      },
      "execution_count": 67,
      "outputs": []
    },
    {
      "cell_type": "code",
      "source": [
        "# Split the data - 80% for traiing and 20% for testing\n",
        "train_pos, test_pos, train_neg, test_neg = positive_tweets[:4000], positive_tweets[4000:], negative_tweets[:4000], negative_tweets[4000:]\n",
        "\n",
        "x_train = train_pos + train_neg\n",
        "x_test = test_pos + test_neg"
      ],
      "metadata": {
        "id": "S2fm2Rk21Hv0"
      },
      "execution_count": 68,
      "outputs": []
    },
    {
      "cell_type": "code",
      "source": [
        "x_train[0]"
      ],
      "metadata": {
        "colab": {
          "base_uri": "https://localhost:8080/",
          "height": 35
        },
        "id": "6Ap7l-C41fsB",
        "outputId": "7bd84258-b5c2-4ffc-bef1-6283d8fda7fa"
      },
      "execution_count": 69,
      "outputs": [
        {
          "output_type": "execute_result",
          "data": {
            "text/plain": [
              "'#FollowFriday @France_Inte @PKuchly57 @Milipol_Paris for being top engaged members in my community this week :)'"
            ],
            "application/vnd.google.colaboratory.intrinsic+json": {
              "type": "string"
            }
          },
          "metadata": {},
          "execution_count": 69
        }
      ]
    },
    {
      "cell_type": "code",
      "source": [
        "# Add label to data set\n",
        "y_train = np.append(np.ones((len(train_pos), 1)), np.zeros((len(train_neg), 1)), axis=0)\n",
        "y_test = np.append(np.ones((len(test_pos), 1)), np.zeros((len(test_neg), 1)), axis=0)"
      ],
      "metadata": {
        "id": "vXL4GUPs1uL8"
      },
      "execution_count": 70,
      "outputs": []
    },
    {
      "cell_type": "code",
      "source": [
        "y_train.shape"
      ],
      "metadata": {
        "colab": {
          "base_uri": "https://localhost:8080/"
        },
        "id": "gZbLL8Lp2c0X",
        "outputId": "f8e15cbb-f692-47eb-aa77-c3a222392143"
      },
      "execution_count": 71,
      "outputs": [
        {
          "output_type": "execute_result",
          "data": {
            "text/plain": [
              "(8000, 1)"
            ]
          },
          "metadata": {},
          "execution_count": 71
        }
      ]
    },
    {
      "cell_type": "code",
      "source": [
        "y_train[0]"
      ],
      "metadata": {
        "colab": {
          "base_uri": "https://localhost:8080/"
        },
        "id": "Df7nHPQ-2bop",
        "outputId": "6c22c7dd-e3ab-4589-a462-b7f3dc681e8f"
      },
      "execution_count": 72,
      "outputs": [
        {
          "output_type": "execute_result",
          "data": {
            "text/plain": [
              "array([1.])"
            ]
          },
          "metadata": {},
          "execution_count": 72
        }
      ]
    },
    {
      "cell_type": "code",
      "source": [
        "fig = plt.figure(figsize=(7, 7))\n",
        "labels = 'Positive', 'Negative'\n",
        "sizes = [len(train_pos),len(train_neg)]\n",
        "plt.pie(sizes, labels=labels, autopct='%1.1f%%' ,startangle=0, shadow=True)\n",
        "plt.axis('equal')\n",
        "plt.show()"
      ],
      "metadata": {
        "colab": {
          "base_uri": "https://localhost:8080/",
          "height": 593
        },
        "id": "edaRbY2J308B",
        "outputId": "8d4d4a6b-4589-4410-f4cd-c0feac70cee1"
      },
      "execution_count": 73,
      "outputs": [
        {
          "output_type": "display_data",
          "data": {
            "text/plain": [
              "<Figure size 700x700 with 1 Axes>"
            ],
            "image/png": "[encoded data removed]"
          },
          "metadata": {}
        }
      ]
    },
    {
      "cell_type": "code",
      "source": [
        "class TweetProcessor:\n",
        "  def __init__(self, tweets, labels):\n",
        "    self.tweets = tweets\n",
        "    self.stemmer = PorterStemmer()\n",
        "    self.stopwords_english = stopwords.words('english')\n",
        "    self.tokenizer = TweetTokenizer(preserve_case=False, strip_handles=True, reduce_len=True)\n",
        "    self.freqs = {}\n",
        "    self.vocab = []\n",
        "    self.labels = labels\n",
        "    # self.processed_tweets = []\n",
        "\n",
        "  '''\n",
        "  for processing the tweets we follow the following steps:\n",
        "    1. Remove special characters using regex\n",
        "    2. Tokenize the tweets\n",
        "    3. Remove stopwords\n",
        "    4. Stem the tokens\n",
        "  '''\n",
        "  def process_tweet(self, tweet):\n",
        "    # Lowercase the tweet\n",
        "    tweet = tweet.lower()\n",
        "\n",
        "    # Remove hyperlinks\n",
        "    tweet = re.sub(r'https?://\\S+', '', tweet)\n",
        "\n",
        "    # Remove hashtags\n",
        "    tweet = re.sub(r'#[^\\s\\n\\r]+', '', tweet)\n",
        "\n",
        "    # Remove mentions\n",
        "    tweet = re.sub(r'@[^\\s\\n\\r]+', '', tweet)\n",
        "\n",
        "    # Remove numbers\n",
        "    tweet = re.sub(r'\\d+', '', tweet)\n",
        "\n",
        "    # Tokenize the tweet\n",
        "    tweet_tokens = self.tokenizer.tokenize(tweet)\n",
        "\n",
        "    # Remove stopwords\n",
        "    tweet_tokens = [token for token in tweet_tokens if not token in self.stopwords_english]\n",
        "\n",
        "    # Remove punctuation\n",
        "    tweet_tokens = [token for token in tweet_tokens if not token in string.punctuation]\n",
        "\n",
        "    # Stem the tokens\n",
        "    tweet_tokens = [self.stemmer.stem(token) for token in tweet_tokens]\n",
        "\n",
        "    return tweet_tokens\n",
        "\n",
        "  def build_vocab(self):\n",
        "    for tweet in self.tweets:\n",
        "      for word in self.process_tweet(tweet):\n",
        "        if word not in self.vocab:\n",
        "          self.vocab.append(word)\n",
        "\n",
        "  def build_freqs(self):\n",
        "    for y, tweet in zip(self.labels, self.tweets):\n",
        "      for word in self.process_tweet(tweet):\n",
        "          # Extract the scalar value from the numpy array\n",
        "          pair = (word, int(y[0]))\n",
        "          if pair in self.freqs:\n",
        "            self.freqs[pair] += 1\n",
        "          else:\n",
        "            self.freqs[pair] = 1"
      ],
      "metadata": {
        "id": "xSo8RwAWlwr9"
      },
      "execution_count": 77,
      "outputs": []
    },
    {
      "cell_type": "code",
      "source": [
        "class FeatureExtractor:\n",
        "  def __init__(self, freqs, tweets, labels):\n",
        "    self.freqs = freqs\n",
        "    self.tweets = tweets\n",
        "    self.features = np.zeros((len(tweets), 3))\n",
        "    self.labels = labels\n",
        "    self.tp = TweetProcessor(self.tweets, self.labels)\n",
        "\n",
        "  def extract_features(self):\n",
        "    for i, tweet in enumerate(self.tweets):\n",
        "      x = np.zeros(3)\n",
        "      x[0] = 1 # bias\n",
        "      for word in self.tp.process_tweet(tweet):\n",
        "        if (word, 1) in self.freqs:\n",
        "          x[1] += self.freqs[(word, 1)]\n",
        "        if (word, 0) in self.freqs:\n",
        "          x[2] += self.freqs[(word, 0)]\n",
        "      self.features[i, :] = x"
      ],
      "metadata": {
        "id": "4zJh512BNnj4"
      },
      "execution_count": 86,
      "outputs": []
    },
    {
      "cell_type": "code",
      "source": [
        "tp = TweetProcessor(x_train, y_train)\n",
        "tp.build_vocab()\n",
        "tp.build_freqs()"
      ],
      "metadata": {
        "id": "W4-8AreZBXKl"
      },
      "execution_count": 79,
      "outputs": []
    },
    {
      "cell_type": "code",
      "source": [
        "vocab = tp.vocab\n",
        "freqs = tp.freqs"
      ],
      "metadata": {
        "id": "QSEbSVBTCxrZ"
      },
      "execution_count": 80,
      "outputs": []
    },
    {
      "cell_type": "code",
      "source": [
        "vocab[:10]"
      ],
      "metadata": {
        "colab": {
          "base_uri": "https://localhost:8080/"
        },
        "id": "NcJqUXc3BnUY",
        "outputId": "bf837203-80ca-4493-c5a3-9e965ed20f97"
      },
      "execution_count": 81,
      "outputs": [
        {
          "output_type": "execute_result",
          "data": {
            "text/plain": [
              "['top', 'engag', 'member', 'commun', 'week', ':)', 'hey', 'jame', 'odd', ':/']"
            ]
          },
          "metadata": {},
          "execution_count": 81
        }
      ]
    },
    {
      "cell_type": "code",
      "source": [
        "len(vocab)"
      ],
      "metadata": {
        "colab": {
          "base_uri": "https://localhost:8080/"
        },
        "id": "JYtoQ9OACJwC",
        "outputId": "0b534734-a2bf-43c6-e384-f58837889f74"
      },
      "execution_count": 82,
      "outputs": [
        {
          "output_type": "execute_result",
          "data": {
            "text/plain": [
              "7944"
            ]
          },
          "metadata": {},
          "execution_count": 82
        }
      ]
    },
    {
      "cell_type": "code",
      "source": [
        "dict(list(freqs.items())[:10])"
      ],
      "metadata": {
        "colab": {
          "base_uri": "https://localhost:8080/"
        },
        "id": "Fm73Bm9gC1AL",
        "outputId": "5dffc4ae-402d-449f-9143-8ec4647ae922"
      },
      "execution_count": 83,
      "outputs": [
        {
          "output_type": "execute_result",
          "data": {
            "text/plain": [
              "{('top', 1): 30,\n",
              " ('engag', 1): 7,\n",
              " ('member', 1): 14,\n",
              " ('commun', 1): 26,\n",
              " ('week', 1): 74,\n",
              " (':)', 1): 2960,\n",
              " ('hey', 1): 60,\n",
              " ('jame', 1): 7,\n",
              " ('odd', 1): 2,\n",
              " (':/', 1): 5}"
            ]
          },
          "metadata": {},
          "execution_count": 83
        }
      ]
    },
    {
      "cell_type": "code",
      "source": [
        "len(freqs)"
      ],
      "metadata": {
        "colab": {
          "base_uri": "https://localhost:8080/"
        },
        "id": "x6EeKPA4C6Bq",
        "outputId": "7850e53e-79a7-498d-dea4-8dac72f3db14"
      },
      "execution_count": 84,
      "outputs": [
        {
          "output_type": "execute_result",
          "data": {
            "text/plain": [
              "10059"
            ]
          },
          "metadata": {},
          "execution_count": 84
        }
      ]
    },
    {
      "cell_type": "code",
      "source": [
        "fe = FeatureExtractor(freqs, x_train, y_train)\n",
        "fe.extract_features()"
      ],
      "metadata": {
        "id": "gi6tuJPqT3D4"
      },
      "execution_count": 90,
      "outputs": []
    },
    {
      "cell_type": "code",
      "source": [
        "features = fe.features"
      ],
      "metadata": {
        "id": "4Xro25bST8JE"
      },
      "execution_count": 91,
      "outputs": []
    },
    {
      "cell_type": "code",
      "source": [
        "features"
      ],
      "metadata": {
        "colab": {
          "base_uri": "https://localhost:8080/"
        },
        "id": "A89G4273Uc65",
        "outputId": "1152a8ae-b782-491b-9142-6f9b0d8fff88"
      },
      "execution_count": 92,
      "outputs": [
        {
          "output_type": "execute_result",
          "data": {
            "text/plain": [
              "array([[1.000e+00, 3.111e+03, 6.300e+01],\n",
              "       [1.000e+00, 3.704e+03, 4.440e+02],\n",
              "       [1.000e+00, 3.119e+03, 1.160e+02],\n",
              "       ...,\n",
              "       [1.000e+00, 1.440e+02, 7.920e+02],\n",
              "       [1.000e+00, 2.070e+02, 3.901e+03],\n",
              "       [1.000e+00, 1.870e+02, 3.983e+03]])"
            ]
          },
          "metadata": {},
          "execution_count": 92
        }
      ]
    },
    {
      "cell_type": "code",
      "source": [],
      "metadata": {
        "id": "pHTbD3T0Ul5T"
      },
      "execution_count": null,
      "outputs": []
    }
  ]
}